{
 "cells": [
  {
   "attachments": {},
   "cell_type": "markdown",
   "metadata": {},
   "source": [
    "# Business Understanding\n",
    "## Pengertian\n",
    "Memahami bisnis adalah tahap pertama dalam proses sains data yang bertujuan untuk mengenali masalah, kebutuhan, dan tujuan yang ingin dicapai oleh organisasi. Tahap ini penting karena memastikan analisis data yang dilakukan relevan dengan situasi nyata. Jika pemahaman bisnis kurang tepat, hasil analisis data bisa tidak bermanfaat bagi pengambilan keputusan.\n",
    "\n",
    "## Tujuan\n",
    "Menentukan masalah bisnis yang sebenarnya.\n",
    "\n",
    "Memahami kondisi dan situasi organisasi saat ini.\n",
    "\n",
    "Menerjemahkan tujuan bisnis ke dalam tujuan analisis data.\n",
    "\n",
    "Menyusun rencana awal proyek sains data.\n",
    "\n",
    "## Langkah-langkah\n",
    "Menentukan tujuan bisnis → Mengidentifikasi apa yang ingin dicapai oleh organisasi, misalnya meningkatkan penjualan, mengurangi biaya, atau meningkatkan kepuasan pelanggan.\n",
    "\n",
    "Menilai situasi → Menganalisis kondisi saat ini, sumber daya, keterbatasan, dan risiko.\n",
    "\n",
    "Menentukan tujuan data mining → Menerjemahkan tujuan bisnis ke dalam bentuk analisis data, misalnya prediksi churn pelanggan atau klasifikasi transaksi.\n",
    "\n",
    "Menyusun rencana proyek → Membuat rencana awal, strategi, timeline, dan metrik keberhasilan.\n",
    "\n",
    "## Contoh Kasus\n",
    "Sebuah e-commerce ingin meningkatkan penjualan produk. Dari sisi bisnis, tujuan utama adalah peningkatan penjualan. Situasi yang ada adalah data transaksi tersedia, namun belum dimanfaatkan dengan baik. Tujuan data mining yang dirumuskan adalah melakukan segmentasi pelanggan berdasarkan perilaku belanja. Rencana proyek yang disusun adalah analisis clustering pelanggan, lalu memberikan rekomendasi produk sesuai segmen tersebut.\n",
    "\n",
    "## Kesimpulan\n",
    "Tahap memahami bisnis adalah pondasi dari proyek sains data. Dengan pemahaman bisnis yang baik, analisis data akan lebih terarah, efisien, dan menghasilkan solusi yang benar-benar bermanfaat bagi organisasi."
   ]
  },
  {
   "cell_type": "code",
   "execution_count": null,
   "metadata": {},
   "outputs": [],
   "source": []
  }
 ],
 "metadata": {
  "language_info": {
   "name": "python"
  },
  "orig_nbformat": 4
 },
 "nbformat": 4,
 "nbformat_minor": 2
}
