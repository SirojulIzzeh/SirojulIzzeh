{
 "cells": [
  {
   "attachments": {},
   "cell_type": "markdown",
   "metadata": {},
   "source": [
    "# Data Understanding\n",
    "## Pengertian\n",
    "Data Understanding adalah tahap kedua dalam proses sains data setelah memahami bisnis. Tahap ini berfokus pada pengumpulan, eksplorasi, dan analisis awal data untuk mengetahui kualitas, struktur, dan potensi data yang tersedia. Dengan kata lain, pada tahap ini kita mulai “berkenalan” dengan data untuk memastikan apakah data tersebut sesuai dengan kebutuhan analisis.\n",
    "\n",
    "## Tujuan\n",
    "Mengumpulkan data yang relevan dengan masalah bisnis.\n",
    "\n",
    "Memahami karakteristik data, seperti jumlah, format, dan tipe variabel.\n",
    "\n",
    "Mengevaluasi kualitas data, termasuk missing value, outlier, dan inkonsistensi.\n",
    "\n",
    "Mengidentifikasi pola awal atau insight sederhana dari data.\n",
    "\n",
    "Menentukan kebutuhan tambahan jika data yang ada belum cukup.\n",
    "\n",
    "## Langkah-Langkah\n",
    "Pengumpulan Data (Data Collection)\n",
    "Mengumpulkan data dari berbagai sumber, misalnya database perusahaan, API, survey, atau file CSV/Excel.\n",
    "\n",
    "Deskripsi Data (Data Description)\n",
    "Mendeskripsikan data dengan melihat jumlah record, variabel, tipe data, serta ringkasan statistik (mean, median, minimum, maksimum, dsb).\n",
    "\n",
    "Eksplorasi Data (Data Exploration)\n",
    "Melakukan eksplorasi awal untuk mencari pola, tren, atau hubungan antar variabel, biasanya dengan tabel, grafik, atau visualisasi.\n",
    "\n",
    "Evaluasi Kualitas Data (Data Quality Verification)\n",
    "Mengecek apakah data memiliki error, missing value, duplikasi, atau data yang tidak relevan, serta menilai kelayakan data untuk analisis lebih lanjut.\n",
    "\n",
    "## Contoh Kasus\n",
    "Dalam proyek e-commerce yang ingin meningkatkan penjualan, data transaksi pelanggan dikumpulkan dari database. Setelah dicek, dataset berisi 50.000 transaksi dengan variabel seperti ID pelanggan, tanggal pembelian, jumlah belanja, kategori produk, dan metode pembayaran. Pada tahap eksplorasi ditemukan bahwa ada 5% data yang memiliki nilai kosong pada kolom metode pembayaran, dan terdapat outlier pada kolom jumlah belanja (pembelian bernilai sangat tinggi). Dari insight awal, terlihat bahwa kategori “fashion” adalah produk yang paling banyak dibeli.\n",
    "\n",
    "## Kesimpulan\n",
    "Tahap Data Understanding membantu data scientist memahami kondisi data yang tersedia sebelum masuk ke tahap Data Preparation. Dengan melakukan pengumpulan, deskripsi, eksplorasi, dan evaluasi kualitas data, kita dapat memastikan bahwa data siap digunakan untuk membangun model yang sesuai dengan tujuan bisnis."
   ]
  }
 ],
 "metadata": {
  "language_info": {
   "name": "python"
  },
  "orig_nbformat": 4
 },
 "nbformat": 4,
 "nbformat_minor": 2
}
